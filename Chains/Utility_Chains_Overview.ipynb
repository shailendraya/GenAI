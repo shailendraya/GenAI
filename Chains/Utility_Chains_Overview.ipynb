{
 "cells": [
  {
   "cell_type": "markdown",
   "id": "7585270c",
   "metadata": {},
   "source": [
    "# Utility Chains Overview"
   ]
  },
  {
   "cell_type": "markdown",
   "id": "416fc6f5",
   "metadata": {},
   "source": [
    "## Summarizing Documents"
   ]
  },
  {
   "cell_type": "markdown",
   "id": "6782af7d",
   "metadata": {},
   "source": [
    "### load_summarize_chain"
   ]
  },
  {
   "cell_type": "code",
   "execution_count": null,
   "id": "c27204db",
   "metadata": {},
   "outputs": [],
   "source": [
    "#Please install the package as per your requirement :)\n",
    "#!pip install openai==1.14.2\n",
    "#!pip install langchain==0.1.13\n",
    "#!pip install huggingface-hub==0.21.4\n",
    "#!pip install langchain-openai==0.1.0\n",
    "#!pip install tiktoken==0.5.2\n",
    "#!pip install bs4==0.0.2"
   ]
  },
  {
   "cell_type": "code",
   "execution_count": null,
   "id": "db3f812e",
   "metadata": {},
   "outputs": [],
   "source": [
    "import os\n",
    "os.environ[\"OPENAI_API_KEY\"] = \"sk-JqqHQBChzONQOeXSw_7mRSUQDMmloJwzgiPMK9JQeVT3BlbkFJ7m3JDlCQ1xtIAp_8lFF7H3sL3NlxtgZjEPz-8Hh0kA\""
   ]
  },
  {
   "cell_type": "code",
   "execution_count": null,
   "id": "ceb56eaa",
   "metadata": {},
   "outputs": [],
   "source": [
    "#The below import has been replaced by the later one\n",
    "from langchain.llms import OpenAI\n",
    "# from langchain_openai import OpenAI\n",
    "from langchain.prompts import PromptTemplate\n",
    "from langchain.chains.summarize import load_summarize_chain\n",
    "from langchain.text_splitter import CharacterTextSplitter\n",
    "from langchain.docstore.document import Document"
   ]
  },
  {
   "cell_type": "code",
   "execution_count": null,
   "id": "333eca01",
   "metadata": {},
   "outputs": [],
   "source": [
    "llm = OpenAI(temperature=0.9)"
   ]
  },
  {
   "cell_type": "code",
   "execution_count": 6,
   "id": "369ec2d4",
   "metadata": {},
   "outputs": [],
   "source": [
    "# Reading the document\n",
    "with open(\"sample.txt\") as f:\n",
    "    data = f.read()"
   ]
  },
  {
   "cell_type": "markdown",
   "id": "75c86c6b",
   "metadata": {},
   "source": [
    "<font color='green'>\n",
    "When it comes to document processing, breaking a large document into smaller, more manageable chunks is essential\n",
    "<font>"
   ]
  },
  {
   "cell_type": "code",
   "execution_count": 8,
   "id": "e378c705",
   "metadata": {},
   "outputs": [],
   "source": [
    "# Split text\n",
    "text_splitter = CharacterTextSplitter()\n",
    "texts = text_splitter.split_text(data)"
   ]
  },
  {
   "cell_type": "code",
   "execution_count": 9,
   "id": "1e33b908",
   "metadata": {},
   "outputs": [],
   "source": [
    "# Create multiple documents\n",
    "docs = [Document(page_content=t) for t in texts]"
   ]
  },
  {
   "cell_type": "code",
   "execution_count": 10,
   "id": "aa7b6158",
   "metadata": {},
   "outputs": [
    {
     "data": {
      "text/plain": [
       "[Document(metadata={}, page_content=\"The Computer: Revolutionizing the World of Technology\\\\n\\\\nIntroduction:\\\\nThe computer is a marvel of human ingenuity that has revolutionized the world in countless ways. From its humble beginnings as a complex calculating machine to its current status as a ubiquitous tool in every aspect of our lives, the computer has transformed how we work, communicate, learn, and entertain ourselves. This essay explores the evolution, impact, and future potential of computers in shaping our modern world.\\\\n\\\\nThe Birth of the Computer:\\\\nThe computer has its roots in the early 19th century when inventors and mathematicians began conceptualizing machines capable of automating complex calculations. However, it was not until the mid-20th century that the first electronic digital computers were developed. Pioneers such as Alan Turing, John von Neumann, and Grace Hopper made significant contributions to the field, laying the groundwork for the computers we know today.\\\\n\\\\nThe Evolution of Computing Power:\\\\nFrom room-sized mainframes to portable laptops, computers have evolved exponentially in terms of size, speed, and processing power. The introduction of integrated circuits, microprocessors, and Moore's Law, which states that the number of transistors on a microchip doubles approximately every two years, have propelled the advancement of computer technology. This exponential growth has led to the development of faster, more efficient, and increasingly capable devices that continue to reshape our world.\\\\n\\\\nTransforming Work and Productivity:\\\\nComputers have transformed the workplace, increasing productivity, efficiency, and accuracy across industries. They have automated repetitive tasks, streamlined operations, and facilitated global connectivity. From word processing and data analysis to complex simulations and artificial intelligence, computers have become essential tools for professionals in fields such as finance, healthcare, engineering, and creative arts. The advent of remote work and digital collaboration further underscores the computer's impact on modern work environments.\\\\n\\\\nCommunication and Connectivity:\\\\nThe computer has revolutionized communication, enabling people to connect with one another across vast distances. The internet, a global network of computers, has facilitated instant communication through email, messaging applications, and social media platforms. It has transformed how we share information, access knowledge, and engage in online communities. Additionally, advancements in video conferencing and virtual reality have bridged geographical gaps, allowing for immersive and real-time interactions.\\\\n\\\\n\\\\nEducation and Learning:\\\\nComputers have had a profound impact on education, revolutionizing the way we learn and acquire knowledge. Online learning platforms, digital textbooks, and educational software provide accessible and interactive learning experiences. Virtual simulations and augmented reality applications enhance understanding in subjects such as science, history, and medicine. Furthermore, computers have expanded access to education, enabling remote learning and distance education opportunities for individuals worldwide.\\\\n\\\\nEntertainment and Creativity:\\\\nComputers have transformed the entertainment industry, enabling the creation and consumption of diverse forms of media. From video games and digital art to music production and film editing, computers have become indispensable tools for creative expression. Streaming services and online platforms have democratized content distribution, offering a plethora of entertainment options to global audiences. Virtual reality and augmented reality technologies offer immersive experiences, blurring the boundaries between the digital and physical realms.\")]"
      ]
     },
     "execution_count": 10,
     "metadata": {},
     "output_type": "execute_result"
    }
   ],
   "source": [
    "docs"
   ]
  },
  {
   "cell_type": "markdown",
   "id": "7bf24b6b",
   "metadata": {},
   "source": [
    "<font color='green'>\n",
    "To create an instance of load_summarizer_chain, we need to provide three arguments. <br><br>Firstly, we need to pass the desired large language model that will be used to query the user input. Secondly, we specify the type of langchain chain to be used for summarizing documents.<br> Lastly, we can set the verbose argument to True if we want to see all the intermediate steps involved in processing the user request and generating the output.<font>"
   ]
  },
  {
   "cell_type": "code",
   "execution_count": 11,
   "id": "a582191f",
   "metadata": {},
   "outputs": [
    {
     "name": "stdout",
     "output_type": "stream",
     "text": [
      "\n",
      "\n",
      "\u001b[1m> Entering new MapReduceDocumentsChain chain...\u001b[0m\n",
      "\n",
      "\n",
      "\u001b[1m> Entering new LLMChain chain...\u001b[0m\n",
      "Prompt after formatting:\n",
      "\u001b[32;1m\u001b[1;3mWrite a concise summary of the following:\n",
      "\n",
      "\n",
      "\"The Computer: Revolutionizing the World of Technology\\n\\nIntroduction:\\nThe computer is a marvel of human ingenuity that has revolutionized the world in countless ways. From its humble beginnings as a complex calculating machine to its current status as a ubiquitous tool in every aspect of our lives, the computer has transformed how we work, communicate, learn, and entertain ourselves. This essay explores the evolution, impact, and future potential of computers in shaping our modern world.\\n\\nThe Birth of the Computer:\\nThe computer has its roots in the early 19th century when inventors and mathematicians began conceptualizing machines capable of automating complex calculations. However, it was not until the mid-20th century that the first electronic digital computers were developed. Pioneers such as Alan Turing, John von Neumann, and Grace Hopper made significant contributions to the field, laying the groundwork for the computers we know today.\\n\\nThe Evolution of Computing Power:\\nFrom room-sized mainframes to portable laptops, computers have evolved exponentially in terms of size, speed, and processing power. The introduction of integrated circuits, microprocessors, and Moore's Law, which states that the number of transistors on a microchip doubles approximately every two years, have propelled the advancement of computer technology. This exponential growth has led to the development of faster, more efficient, and increasingly capable devices that continue to reshape our world.\\n\\nTransforming Work and Productivity:\\nComputers have transformed the workplace, increasing productivity, efficiency, and accuracy across industries. They have automated repetitive tasks, streamlined operations, and facilitated global connectivity. From word processing and data analysis to complex simulations and artificial intelligence, computers have become essential tools for professionals in fields such as finance, healthcare, engineering, and creative arts. The advent of remote work and digital collaboration further underscores the computer's impact on modern work environments.\\n\\nCommunication and Connectivity:\\nThe computer has revolutionized communication, enabling people to connect with one another across vast distances. The internet, a global network of computers, has facilitated instant communication through email, messaging applications, and social media platforms. It has transformed how we share information, access knowledge, and engage in online communities. Additionally, advancements in video conferencing and virtual reality have bridged geographical gaps, allowing for immersive and real-time interactions.\\n\\n\\nEducation and Learning:\\nComputers have had a profound impact on education, revolutionizing the way we learn and acquire knowledge. Online learning platforms, digital textbooks, and educational software provide accessible and interactive learning experiences. Virtual simulations and augmented reality applications enhance understanding in subjects such as science, history, and medicine. Furthermore, computers have expanded access to education, enabling remote learning and distance education opportunities for individuals worldwide.\\n\\nEntertainment and Creativity:\\nComputers have transformed the entertainment industry, enabling the creation and consumption of diverse forms of media. From video games and digital art to music production and film editing, computers have become indispensable tools for creative expression. Streaming services and online platforms have democratized content distribution, offering a plethora of entertainment options to global audiences. Virtual reality and augmented reality technologies offer immersive experiences, blurring the boundaries between the digital and physical realms.\"\n",
      "\n",
      "\n",
      "CONCISE SUMMARY:\u001b[0m\n",
      "\n",
      "\u001b[1m> Finished chain.\u001b[0m\n",
      "\n",
      "\n",
      "\u001b[1m> Entering new LLMChain chain...\u001b[0m\n",
      "Prompt after formatting:\n",
      "\u001b[32;1m\u001b[1;3mWrite a concise summary of the following:\n",
      "\n",
      "\n",
      "\" \n",
      "\n",
      "Computers have revolutionized the world of technology, from their humble origins as calculating machines to their current status as ubiquitous tools in our everyday lives. Developed in the mid-20th century, computers have evolved exponentially in terms of size, speed, and capabilities, transforming work, communication, education, and entertainment. They have increased productivity, efficiency, and connectivity, enabling remote work and online learning, and providing opportunities for creative expression. The internet has played a crucial role in facilitating global communication and access to information, while advancements in virtual and augmented reality have created immersive experiences. Overall, computers continue to shape and reshape our modern world in countless ways.\"\n",
      "\n",
      "\n",
      "CONCISE SUMMARY:\u001b[0m\n",
      "\n",
      "\u001b[1m> Finished chain.\u001b[0m\n",
      "\n",
      "\u001b[1m> Finished chain.\u001b[0m\n"
     ]
    },
    {
     "data": {
      "text/plain": [
       "{'input_documents': [Document(metadata={}, page_content=\"The Computer: Revolutionizing the World of Technology\\\\n\\\\nIntroduction:\\\\nThe computer is a marvel of human ingenuity that has revolutionized the world in countless ways. From its humble beginnings as a complex calculating machine to its current status as a ubiquitous tool in every aspect of our lives, the computer has transformed how we work, communicate, learn, and entertain ourselves. This essay explores the evolution, impact, and future potential of computers in shaping our modern world.\\\\n\\\\nThe Birth of the Computer:\\\\nThe computer has its roots in the early 19th century when inventors and mathematicians began conceptualizing machines capable of automating complex calculations. However, it was not until the mid-20th century that the first electronic digital computers were developed. Pioneers such as Alan Turing, John von Neumann, and Grace Hopper made significant contributions to the field, laying the groundwork for the computers we know today.\\\\n\\\\nThe Evolution of Computing Power:\\\\nFrom room-sized mainframes to portable laptops, computers have evolved exponentially in terms of size, speed, and processing power. The introduction of integrated circuits, microprocessors, and Moore's Law, which states that the number of transistors on a microchip doubles approximately every two years, have propelled the advancement of computer technology. This exponential growth has led to the development of faster, more efficient, and increasingly capable devices that continue to reshape our world.\\\\n\\\\nTransforming Work and Productivity:\\\\nComputers have transformed the workplace, increasing productivity, efficiency, and accuracy across industries. They have automated repetitive tasks, streamlined operations, and facilitated global connectivity. From word processing and data analysis to complex simulations and artificial intelligence, computers have become essential tools for professionals in fields such as finance, healthcare, engineering, and creative arts. The advent of remote work and digital collaboration further underscores the computer's impact on modern work environments.\\\\n\\\\nCommunication and Connectivity:\\\\nThe computer has revolutionized communication, enabling people to connect with one another across vast distances. The internet, a global network of computers, has facilitated instant communication through email, messaging applications, and social media platforms. It has transformed how we share information, access knowledge, and engage in online communities. Additionally, advancements in video conferencing and virtual reality have bridged geographical gaps, allowing for immersive and real-time interactions.\\\\n\\\\n\\\\nEducation and Learning:\\\\nComputers have had a profound impact on education, revolutionizing the way we learn and acquire knowledge. Online learning platforms, digital textbooks, and educational software provide accessible and interactive learning experiences. Virtual simulations and augmented reality applications enhance understanding in subjects such as science, history, and medicine. Furthermore, computers have expanded access to education, enabling remote learning and distance education opportunities for individuals worldwide.\\\\n\\\\nEntertainment and Creativity:\\\\nComputers have transformed the entertainment industry, enabling the creation and consumption of diverse forms of media. From video games and digital art to music production and film editing, computers have become indispensable tools for creative expression. Streaming services and online platforms have democratized content distribution, offering a plethora of entertainment options to global audiences. Virtual reality and augmented reality technologies offer immersive experiences, blurring the boundaries between the digital and physical realms.\")],\n",
       " 'output_text': ' Computers have greatly impacted technology since their beginnings as calculating machines. They have evolved significantly and are now essential tools in our daily lives, changing how we work, communicate, learn, and entertain. Computers have increased productivity and connectivity, allowing for remote work and online learning, and have also improved access to information through the internet. Advancements in virtual and augmented reality have also enhanced user experiences. In summary, computers continue to shape our modern world in numerous ways.'}"
      ]
     },
     "execution_count": 11,
     "metadata": {},
     "output_type": "execute_result"
    }
   ],
   "source": [
    "chain = load_summarize_chain(llm, chain_type=\"map_reduce\", verbose=True)\n",
    "chain.invoke(docs)"
   ]
  },
  {
   "cell_type": "markdown",
   "id": "3593072c",
   "metadata": {},
   "source": [
    "## HTTP Requests"
   ]
  },
  {
   "cell_type": "markdown",
   "id": "320a57a5",
   "metadata": {},
   "source": [
    "### LLMRequestsChain"
   ]
  },
  {
   "cell_type": "code",
   "execution_count": 12,
   "id": "2a29e1b4",
   "metadata": {},
   "outputs": [],
   "source": [
    "from langchain.chains import LLMRequestsChain, LLMChain"
   ]
  },
  {
   "cell_type": "code",
   "execution_count": 13,
   "id": "e1f23480",
   "metadata": {},
   "outputs": [],
   "source": [
    "template = \"\"\"\n",
    "Extract the answer to the question '{query}' or say \"not found\" if the information is not available.\n",
    "{requests_result}\n",
    "\"\"\"\n",
    "\n",
    "PROMPT = PromptTemplate(\n",
    "    input_variables=[\"query\", \"requests_result\"],\n",
    "    template=template,\n",
    ")"
   ]
  },
  {
   "cell_type": "code",
   "execution_count": 14,
   "id": "a5dc9937",
   "metadata": {},
   "outputs": [],
   "source": [
    "llm=OpenAI()"
   ]
  },
  {
   "cell_type": "code",
   "execution_count": 15,
   "id": "dd539d4f",
   "metadata": {},
   "outputs": [
    {
     "name": "stderr",
     "output_type": "stream",
     "text": [
      "C:\\Users\\002M3W744\\AppData\\Local\\Temp\\ipykernel_26876\\2809102635.py:1: LangChainDeprecationWarning: The class `LLMChain` was deprecated in LangChain 0.1.17 and will be removed in 1.0. Use :meth:`~RunnableSequence, e.g., `prompt | llm`` instead.\n",
      "  chain = LLMRequestsChain(llm_chain=LLMChain(llm=llm, prompt=PROMPT))\n"
     ]
    }
   ],
   "source": [
    "chain = LLMRequestsChain(llm_chain=LLMChain(llm=llm, prompt=PROMPT))"
   ]
  },
  {
   "cell_type": "markdown",
   "id": "cb3fbc27",
   "metadata": {},
   "source": [
    "<font color='green'>\n",
    "Preparing the question & inputs to the http request<font>"
   ]
  },
  {
   "cell_type": "code",
   "execution_count": 16,
   "id": "64893b39",
   "metadata": {},
   "outputs": [],
   "source": [
    "question = \"What is the capital of india?\"\n",
    "inputs = {\n",
    "    \"query\": question,\n",
    "    \"url\": \"https://www.google.com/search?q=\" + question.replace(\" \", \"+\"),\n",
    "}"
   ]
  },
  {
   "cell_type": "code",
   "execution_count": 17,
   "id": "779f0411",
   "metadata": {},
   "outputs": [
    {
     "data": {
      "text/plain": [
       "{'query': 'What is the capital of india?',\n",
       " 'url': 'https://www.google.com/search?q=What+is+the+capital+of+india?',\n",
       " 'output': '\\nNew Delhi is the capital of India. '}"
      ]
     },
     "execution_count": 17,
     "metadata": {},
     "output_type": "execute_result"
    }
   ],
   "source": [
    "chain.invoke(inputs)"
   ]
  },
  {
   "cell_type": "markdown",
   "id": "14c980e2",
   "metadata": {},
   "source": [
    "<font color='green'>\n",
    "Let's look at the internal functioning<font>"
   ]
  },
  {
   "cell_type": "code",
   "execution_count": 18,
   "id": "b974d187",
   "metadata": {},
   "outputs": [
    {
     "name": "stdout",
     "output_type": "stream",
     "text": [
      "    def _call(\n",
      "        self,\n",
      "        inputs: Dict[str, Any],\n",
      "        run_manager: Optional[CallbackManagerForChainRun] = None,\n",
      "    ) -> Dict[str, Any]:\n",
      "        from bs4 import BeautifulSoup\n",
      "\n",
      "        _run_manager = run_manager or CallbackManagerForChainRun.get_noop_manager()\n",
      "        # Other keys are assumed to be needed for LLM prediction\n",
      "        other_keys = {k: v for k, v in inputs.items() if k != self.input_key}\n",
      "        url = inputs[self.input_key]\n",
      "        res = self.requests_wrapper.get(url)\n",
      "        # extract the text from the html\n",
      "        soup = BeautifulSoup(res, \"html.parser\")\n",
      "        other_keys[self.requests_key] = soup.get_text()[: self.text_length]\n",
      "        result = self.llm_chain.predict(  # type: ignore[attr-defined]\n",
      "            callbacks=_run_manager.get_child(), **other_keys\n",
      "        )\n",
      "        return {self.output_key: result}\n",
      "\n"
     ]
    }
   ],
   "source": [
    "import inspect\n",
    "print(inspect.getsource(chain._call))"
   ]
  },
  {
   "cell_type": "code",
   "execution_count": null,
   "id": "81acaf69",
   "metadata": {},
   "outputs": [],
   "source": []
  }
 ],
 "metadata": {
  "kernelspec": {
   "display_name": "Python 3 (ipykernel)",
   "language": "python",
   "name": "python3"
  },
  "language_info": {
   "codemirror_mode": {
    "name": "ipython",
    "version": 3
   },
   "file_extension": ".py",
   "mimetype": "text/x-python",
   "name": "python",
   "nbconvert_exporter": "python",
   "pygments_lexer": "ipython3",
   "version": "3.11.5"
  }
 },
 "nbformat": 4,
 "nbformat_minor": 5
}
