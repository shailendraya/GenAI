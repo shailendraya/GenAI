{
 "cells": [
  {
   "cell_type": "markdown",
   "id": "54236f04",
   "metadata": {},
   "source": [
    "<font color='green'>\n",
    "Pip install is the command you use to install Python packages with the help of a tool called Pip package manager.\n",
    "<br><br>Installing LangChain package along with langchain-openai, new update from langchain team\n",
    "</font>"
   ]
  },
  {
   "cell_type": "code",
   "execution_count": 22,
   "id": "25059719",
   "metadata": {},
   "outputs": [],
   "source": [
    "#!pip install langchain==0.1.13\n",
    "#!pip install langchain-openai==0.1.0"
   ]
  },
  {
   "cell_type": "markdown",
   "id": "da86f5fe",
   "metadata": {},
   "source": [
    "<font color='green'>\n",
    "Installing Openai package, which includes the classes that we can use to communicate with Openai services\n",
    "<font>"
   ]
  },
  {
   "cell_type": "code",
   "execution_count": 23,
   "id": "3a286b10",
   "metadata": {},
   "outputs": [],
   "source": [
    "#!pip install openai==1.14.2"
   ]
  },
  {
   "cell_type": "markdown",
   "id": "d17c37be",
   "metadata": {},
   "source": [
    "<font color='green'>\n",
    "Imports the Python built-in module called \"os.\"\n",
    "<br>This module provides a way to interact with the operating system, such as accessing environment variables, working with files and directories, executing shell commands, etc\n",
    "<font>"
   ]
  },
  {
   "cell_type": "code",
   "execution_count": 2,
   "id": "93e917fa",
   "metadata": {},
   "outputs": [],
   "source": [
    "import os\n",
    "os.environ[\"OPENAI_API_KEY\"] = \"sk-E0s9SnkXzx1tsCb5WakRMCPfS0QCpjvjFSKZYvvTzFT3BlbkFJR7s2qDbleIpjlge5zcz7IUdyczbN6MTmB366amASgA\""
   ]
  },
  {
   "cell_type": "code",
   "execution_count": 16,
   "id": "fe5e9c51",
   "metadata": {},
   "outputs": [],
   "source": [
    "#As Langchain team has been working aggresively on improving the tool, we can see a lot of changes happening every weeek,\n",
    "#As a part of it, the below import has been depreciated\n",
    "#from langchain.llms import OpenAI\n",
    "\n",
    "#First we'll need to import the below LangChain x OpenAI integration package and then import it please, if not installed already\n",
    "\n",
    "#!pip install langchain-openai==0.1.0\n",
    "\n",
    "from langchain_openai import OpenAI"
   ]
  },
  {
   "cell_type": "code",
   "execution_count": 17,
   "id": "4d6c19f5",
   "metadata": {},
   "outputs": [],
   "source": [
    "# 'text-davinci-003' model is depreciated now, so we are using the openai's recommended model https://platform.openai.com/docs/deprecations\n",
    "llm = OpenAI(model_name=\"gpt-3.5-turbo-instruct\")"
   ]
  },
  {
   "cell_type": "code",
   "execution_count": 5,
   "id": "5e9e383c",
   "metadata": {},
   "outputs": [],
   "source": [
    "our_prompt = \"\"\"\n",
    "I love trips, and I have been to 6 countries. \n",
    "I plan to visit few more soon.\n",
    "\n",
    "Can you create a post for tweet in 10 sentance for the above?\n",
    "\"\"\""
   ]
  },
  {
   "cell_type": "code",
   "execution_count": 6,
   "id": "aa56b204",
   "metadata": {},
   "outputs": [
    {
     "name": "stdout",
     "output_type": "stream",
     "text": [
      "\n",
      "I love trips, and I have been to 6 countries. \n",
      "I plan to visit few more soon.\n",
      "\n",
      "Can you create a post for tweet in 10 sentance for the above?\n",
      "\n"
     ]
    }
   ],
   "source": [
    "print(our_prompt)"
   ]
  },
  {
   "cell_type": "code",
   "execution_count": 7,
   "id": "e8c01868",
   "metadata": {},
   "outputs": [
    {
     "data": {
      "text/plain": [
       "'\\n1. \"Traveling is one of my greatest passions, and I especially love taking trips to new places!\"\\n2. \"So far, I have been fortunate enough to visit 6 incredible countries around the world.\"\\n3. \"From the bustling cities of Europe to the serene beaches of Asia, each trip has been a unique and unforgettable experience.\"\\n4. \"But my wanderlust isn\\'t satisfied yet, I have a few more countries on my must-visit list!\"\\n5. \"I can\\'t wait to immerse myself in different cultures, try new foods, and make unforgettable memories.\"\\n6. \"Exploring new destinations is not only exciting, but it also broadens my perspective on the world.\"\\n7. \"Traveling has taught me to be adaptable, open-minded, and appreciative of different ways of life.\"\\n8. \"Each trip has its own special moments, from climbing the Eiffel Tower to snorkeling in the crystal clear waters of the Maldives.\"\\n9. \"I believe that the best souvenirs are the memories and experiences we collect along the way.\"\\n10. \"Where will my next adventure take me? Stay tuned to find out! #travelgoals #wanderlust\"'"
      ]
     },
     "execution_count": 7,
     "metadata": {},
     "output_type": "execute_result"
    }
   ],
   "source": [
    "#Last week langchain has recommended to use invoke function for the below please :)\n",
    "llm.invoke(our_prompt)"
   ]
  },
  {
   "cell_type": "markdown",
   "id": "b544ff21",
   "metadata": {},
   "source": [
    "## Prompt Template"
   ]
  },
  {
   "cell_type": "code",
   "execution_count": 8,
   "id": "d3d1bd63",
   "metadata": {},
   "outputs": [],
   "source": [
    "#As Langchain team has been working aggresively on improving the tool, we can see a lot of changes happening every weeek,\n",
    "#As a part of it, the below import has been depreciated\n",
    "#from langchain.llms import OpenAI\n",
    "\n",
    "#First we'll need to import the below LangChain x OpenAI integration package and then import it please, if not installed already\n",
    "\n",
    "#!pip install langchain-openai==0.1.0\n",
    "\n",
    "from langchain_openai import OpenAI"
   ]
  },
  {
   "cell_type": "code",
   "execution_count": 9,
   "id": "f55beab7",
   "metadata": {},
   "outputs": [],
   "source": [
    "from langchain import PromptTemplate"
   ]
  },
  {
   "cell_type": "code",
   "execution_count": 10,
   "id": "fc4c87c0",
   "metadata": {},
   "outputs": [],
   "source": [
    "llm = OpenAI(model_name=\"gpt-3.5-turbo-instruct\")"
   ]
  },
  {
   "cell_type": "markdown",
   "id": "4768461b",
   "metadata": {},
   "source": [
    "### Using F-String"
   ]
  },
  {
   "cell_type": "markdown",
   "id": "4b5024d4",
   "metadata": {},
   "source": [
    "<font color='green'>\n",
    "F-String is a Python feature that allows easy string formatting by placing variables inside curly braces within a string, making code more readable and efficient.\n",
    "    \n",
    "<br>\n",
    "__Code:__\n",
    "<br>\n",
    "name = \"Alice\"\n",
    "<br>\n",
    "age = 25\n",
    "<br>\n",
    "message = f\"My name is {name} and I am {age} years old.\"\n",
    "<br>\n",
    "print(message)\n",
    "<br><br>\n",
    "__Output:__\n",
    "<br>\n",
    "My name is Alice and I am 25 years old.\n",
    "<font>"
   ]
  },
  {
   "cell_type": "code",
   "execution_count": 13,
   "id": "23109c05",
   "metadata": {},
   "outputs": [],
   "source": [
    "wordsCount=10"
   ]
  },
  {
   "cell_type": "code",
   "execution_count": 14,
   "id": "d9ce8bba",
   "metadata": {},
   "outputs": [],
   "source": [
    "our_text = \"I love trips, and I have been to 6 countries. I plan to visit few more soon.\""
   ]
  },
  {
   "cell_type": "code",
   "execution_count": 18,
   "id": "70c0bfcb",
   "metadata": {},
   "outputs": [],
   "source": [
    "our_prompt = f\"\"\"\n",
    "{our_text}\n",
    "\n",
    "Can you create a post for tweet in {wordsCount} sentence for the above?\n",
    "\"\"\""
   ]
  },
  {
   "cell_type": "code",
   "execution_count": 19,
   "id": "dccfddcb",
   "metadata": {},
   "outputs": [
    {
     "name": "stdout",
     "output_type": "stream",
     "text": [
      "\n",
      "I love trips, and I have been to 6 countries. I plan to visit few more soon.\n",
      "\n",
      "Can you create a post for tweet in 10 sentence for the above?\n",
      "\n"
     ]
    }
   ],
   "source": [
    "print (our_prompt)"
   ]
  },
  {
   "cell_type": "code",
   "execution_count": 21,
   "id": "38f1eef6",
   "metadata": {},
   "outputs": [
    {
     "data": {
      "text/plain": [
       "'\\n1. \"Traveling is my passion, and I\\'ve been lucky enough to visit 6 countries so far. #wanderlust #travelgoals\"\\n2. \"There\\'s nothing quite like the excitement of planning a new trip. Where should I go next? #traveladdict #explore\"\\n3. \"From the bustling streets of Tokyo to the stunning beaches of Bali, I\\'ve seen some incredible places. #bucketlist #adventure\"\\n4. \"Every trip has taught me something new about different cultures, people, and myself. #travelinspiration #growth\"\\n5. \"I believe that travel is the only thing you can buy that makes you richer. #travelquotes #wisdom\"\\n6. \"My passport is my most prized possession, filled with memories and stamps from around the world. #passportgoals #collectmemories\"\\n7. \"I have a never-ending list of places I want to see and experiences I want to have. #neverstopexploring #adventureawaits\"\\n8. \"Traveling has opened my eyes to the beauty and diversity of our world. #travelmore #appreciatetheworld\"\\n9. \"I\\'m grateful for every opportunity I have to explore a new place and create unforgettable memories. #'"
      ]
     },
     "execution_count": 21,
     "metadata": {},
     "output_type": "execute_result"
    }
   ],
   "source": [
    "llm.invoke(our_prompt)"
   ]
  },
  {
   "cell_type": "markdown",
   "id": "8a4fd394",
   "metadata": {},
   "source": [
    "### Using Prompt Template"
   ]
  },
  {
   "cell_type": "markdown",
   "id": "0264f268",
   "metadata": {},
   "source": [
    "<font color='green'>Prompt templates helps us in keeping our code neat and clean when we are building more complex <font>"
   ]
  },
  {
   "cell_type": "code",
   "execution_count": 11,
   "id": "d81d00a5",
   "metadata": {},
   "outputs": [],
   "source": [
    "template = \"\"\"\n",
    "{our_text}\n",
    "\n",
    "Can you create a post for tweet in {wordsCount} sentence for the above?\n",
    "\"\"\""
   ]
  },
  {
   "cell_type": "code",
   "execution_count": 12,
   "id": "b1b26b1f",
   "metadata": {},
   "outputs": [],
   "source": [
    "prompt = PromptTemplate(\n",
    "    input_variables=[\"wordsCount\",\"our_text\"],\n",
    "    template=template,\n",
    ")"
   ]
  },
  {
   "cell_type": "code",
   "execution_count": 13,
   "id": "4b569cc5",
   "metadata": {},
   "outputs": [],
   "source": [
    "final_prompt = prompt.format(wordsCount='20',our_text=\"I am a GenAI Engineer\")"
   ]
  },
  {
   "cell_type": "code",
   "execution_count": 14,
   "id": "68c72bc5",
   "metadata": {},
   "outputs": [
    {
     "name": "stdout",
     "output_type": "stream",
     "text": [
      "\n",
      "I am a GenAI Engineer\n",
      "\n",
      "Can you create a post for tweet in 20 sentence for the above?\n",
      "\n"
     ]
    }
   ],
   "source": [
    "print (final_prompt)"
   ]
  },
  {
   "cell_type": "code",
   "execution_count": 1,
   "id": "4c0f863b",
   "metadata": {},
   "outputs": [
    {
     "ename": "NameError",
     "evalue": "name 'llm' is not defined",
     "output_type": "error",
     "traceback": [
      "\u001b[1;31m---------------------------------------------------------------------------\u001b[0m",
      "\u001b[1;31mNameError\u001b[0m                                 Traceback (most recent call last)",
      "Cell \u001b[1;32mIn[1], line 1\u001b[0m\n\u001b[1;32m----> 1\u001b[0m \u001b[38;5;28mprint\u001b[39m (\u001b[43mllm\u001b[49m\u001b[38;5;241m.\u001b[39minvoke(final_prompt))\n",
      "\u001b[1;31mNameError\u001b[0m: name 'llm' is not defined"
     ]
    }
   ],
   "source": [
    "print (llm.invoke(final_prompt))"
   ]
  },
  {
   "cell_type": "code",
   "execution_count": null,
   "id": "10cfaaf8",
   "metadata": {},
   "outputs": [],
   "source": []
  },
  {
   "cell_type": "code",
   "execution_count": null,
   "id": "59562141",
   "metadata": {},
   "outputs": [],
   "source": []
  }
 ],
 "metadata": {
  "kernelspec": {
   "display_name": "Python 3 (ipykernel)",
   "language": "python",
   "name": "python3"
  },
  "language_info": {
   "codemirror_mode": {
    "name": "ipython",
    "version": 3
   },
   "file_extension": ".py",
   "mimetype": "text/x-python",
   "name": "python",
   "nbconvert_exporter": "python",
   "pygments_lexer": "ipython3",
   "version": "3.11.5"
  }
 },
 "nbformat": 4,
 "nbformat_minor": 5
}
