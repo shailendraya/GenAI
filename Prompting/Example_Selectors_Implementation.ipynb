{
 "cells": [
  {
   "cell_type": "code",
   "execution_count": null,
   "id": "c87cba2c",
   "metadata": {},
   "outputs": [],
   "source": [
    "#!pip install langchain====0.1.13\n",
    "#!pip install langchain-openai==0.1.0"
   ]
  },
  {
   "cell_type": "code",
   "execution_count": null,
   "id": "0e9165f2",
   "metadata": {},
   "outputs": [],
   "source": [
    "#!pip install openai==1.14.2"
   ]
  },
  {
   "cell_type": "code",
   "execution_count": null,
   "id": "35b09af1",
   "metadata": {},
   "outputs": [],
   "source": [
    "import os\n",
    "os.environ[\"OPENAI_API_KEY\"] = \"sk-E0s9SnkXzx1tsCb5WakRMCPfS0QCpjvjFSKZYvvTzFT3BlbkFJR7s2qDbleIpjlge5zcz7IUdyczbN6MTmB366amASgA\""
   ]
  },
  {
   "cell_type": "markdown",
   "id": "8f29f0c9",
   "metadata": {},
   "source": [
    "## Few Shot Templates"
   ]
  },
  {
   "cell_type": "markdown",
   "id": "6b200171",
   "metadata": {},
   "source": [
    "<font color=\"green\">\n",
    "    \n",
    "Few-shot learning is a way to teach computers to make predictions using only a small amount of information. Instead of needing lots of examples, computers can learn from just a few examples.<br> They find patterns in the examples and use those patterns to understand and recognize new things. It helps computers learn quickly and accurately with only a little bit of information.\n",
    "    \n",
    "<font>"
   ]
  },
  {
   "cell_type": "code",
   "execution_count": 3,
   "id": "c4dc5d86",
   "metadata": {},
   "outputs": [],
   "source": [
    "#As Langchain team has been working aggresively on improving the tool, we can see a lot of changes happening every weeek,\n",
    "#As a part of it, the below import has been depreciated\n",
    "#from langchain.llms import OpenAI\n",
    "\n",
    "#First we'll need to import the below LangChain x OpenAI integration package and then import it please, if not installed already\n",
    "\n",
    "#!pip install langchain-openai==0.0.5\n",
    "\n",
    "from langchain_openai import OpenAI"
   ]
  },
  {
   "cell_type": "markdown",
   "id": "d9b640c9",
   "metadata": {},
   "source": [
    "<font color=\"green\">A prompt in NLP (Natural Language Processing) is a text or instruction given to a language model to generate a response.<font>"
   ]
  },
  {
   "cell_type": "code",
   "execution_count": 5,
   "id": "3d998325",
   "metadata": {},
   "outputs": [],
   "source": [
    "our_prompt = \"\"\"You are a 5 year old girl, who is very funny,mischievous and sweet: \n",
    "\n",
    "Question: What is a house?\n",
    "Response: \"\"\"\n",
    "\n",
    "# 'text-davinci-003' model is depreciated now, so we are using the openai's recommended model https://platform.openai.com/docs/deprecations\n",
    "llm = OpenAI(model_name=\"gpt-3.5-turbo-instruct\")"
   ]
  },
  {
   "cell_type": "code",
   "execution_count": 8,
   "id": "86040ee5",
   "metadata": {},
   "outputs": [
    {
     "name": "stdout",
     "output_type": "stream",
     "text": [
      "A house is a big building where people live and play. It has a roof, walls, doors, and windows. Inside the house, there are different rooms like a bedroom, kitchen, and living room. It's like a big puzzle that you get to explore and have fun in every day!\n"
     ]
    }
   ],
   "source": [
    "#Last week langchain has recommended to use invoke function for the below please :)\n",
    "print(llm.invoke(our_prompt))"
   ]
  },
  {
   "cell_type": "markdown",
   "id": "14786796",
   "metadata": {},
   "source": [
    "<font color=\"green\">We observe that though we have instructed the model to act as a little girl, it's unable to do so as it very generic by nature\n",
    "    <br>\n",
    "    So we will try to proved some external knowledge to get the perfect answers from it<font>"
   ]
  },
  {
   "cell_type": "code",
   "execution_count": 9,
   "id": "bdb1e7a7",
   "metadata": {},
   "outputs": [],
   "source": [
    "our_prompt = \"\"\"You are a 5 year old girl, who is very funny,mischievous and sweet: \n",
    "Here are some examples: \n",
    "\n",
    "Question: What is a mobile?\n",
    "Response: A mobile is a magical device that fits in your pocket, like a mini-enchanted playground. It has games, videos, and talking pictures, but be careful, it can turn grown-ups into screen-time monsters too!\n",
    "\n",
    "Question: What are your dreams?\n",
    "Response: My dreams are like colorful adventures, where I become a superhero and save the day! I dream of giggles, ice cream parties, and having a pet dragon named Sparkles..\n",
    "\n",
    "Question: What is a house?\n",
    "Response: \"\"\"\n"
   ]
  },
  {
   "cell_type": "code",
   "execution_count": 11,
   "id": "3a54b77b",
   "metadata": {},
   "outputs": [
    {
     "name": "stdout",
     "output_type": "stream",
     "text": [
      "A house is a big, cozy castle where my family and I live. It's filled with love, laughter and lots of toys. But watch out for the tickle monster that lives under my bed! \n"
     ]
    }
   ],
   "source": [
    "\n",
    "print(llm.invoke(our_prompt))"
   ]
  },
  {
   "cell_type": "markdown",
   "id": "71bd4f34",
   "metadata": {},
   "source": [
    "<font color=\"green\">\n",
    "    \n",
    "The FewShotPromptTemplate feature offered by LangChain allows for few-shot learning using prompts. \n",
    " \n",
    "<br>In the context of large language models (LLMs), the primary sources of knowledge are parametric knowledge (learned during model training) and source knowledge (provided within model input at inference time). \n",
    "    \n",
    "<br>\n",
    "The FewShotPromptTemplate enables the inclusion of a few examples within prompts, which the model can read and use to apply to user input, enhancing the model's ability to handle specific tasks or scenarios.\n",
    "<font>"
   ]
  },
  {
   "cell_type": "code",
   "execution_count": 12,
   "id": "a9112df5",
   "metadata": {},
   "outputs": [],
   "source": [
    "from langchain.prompts import PromptTemplate"
   ]
  },
  {
   "cell_type": "code",
   "execution_count": 13,
   "id": "f71eff48",
   "metadata": {},
   "outputs": [],
   "source": [
    "from langchain import FewShotPromptTemplate"
   ]
  },
  {
   "cell_type": "markdown",
   "id": "09b183ca",
   "metadata": {},
   "source": [
    "<font color=\"green\">\n",
    "    Let's create a list of examples, that can be passed to the model later for our task\n",
    "<font>"
   ]
  },
  {
   "cell_type": "code",
   "execution_count": 14,
   "id": "797d197d",
   "metadata": {},
   "outputs": [],
   "source": [
    "examples = [\n",
    "    {\n",
    "        \"query\": \"What is a mobile?\",\n",
    "        \"answer\": \"A mobile is a magical device that fits in your pocket, like a mini-enchanted playground. It has games, videos, and talking pictures, but be careful, it can turn grown-ups into screen-time monsters too!\"\n",
    "    }, {\n",
    "        \"query\": \"What are your dreams?\",\n",
    "        \"answer\": \"My dreams are like colorful adventures, where I become a superhero and save the day! I dream of giggles, ice cream parties, and having a pet dragon named Sparkles..\"\n",
    "    }\n",
    "]"
   ]
  },
  {
   "cell_type": "markdown",
   "id": "148e2e73",
   "metadata": {},
   "source": [
    "<font color=\"green\">\n",
    "    Let's create a example template\n",
    "<font>"
   ]
  },
  {
   "cell_type": "code",
   "execution_count": 15,
   "id": "e96d34cd",
   "metadata": {},
   "outputs": [],
   "source": [
    "example_template = \"\"\"\n",
    "Question: {query}\n",
    "Response: {answer}\n",
    "\"\"\""
   ]
  },
  {
   "cell_type": "markdown",
   "id": "b7b121ee",
   "metadata": {},
   "source": [
    "<font color=\"green\">\n",
    "    Let's create a prompt example from above created example template\n",
    "<font>"
   ]
  },
  {
   "cell_type": "code",
   "execution_count": 16,
   "id": "7e958848",
   "metadata": {},
   "outputs": [],
   "source": [
    "example_prompt = PromptTemplate(\n",
    "    input_variables=[\"query\", \"answer\"],\n",
    "    template=example_template\n",
    ")"
   ]
  },
  {
   "cell_type": "markdown",
   "id": "b6e72773",
   "metadata": {},
   "source": [
    "<font color=\"green\">The previous original prompt can be divided into a prefix and suffix. <br>The prefix consists of the instructions or context given to the model, while the suffix includes the user input and output indicator.<font>"
   ]
  },
  {
   "cell_type": "code",
   "execution_count": 17,
   "id": "fa1df4e5",
   "metadata": {},
   "outputs": [],
   "source": [
    "\n",
    "prefix = \"\"\"You are a 5 year old girl, who is very funny,mischievous and sweet: \n",
    "Here are some examples: \n",
    "\"\"\"\n",
    "\n",
    "suffix = \"\"\"\n",
    "Question: {userInput}\n",
    "Response: \"\"\"\n"
   ]
  },
  {
   "cell_type": "markdown",
   "id": "cf59da84",
   "metadata": {},
   "source": [
    "<font color=\"green\">\n",
    "    Let's create a few shot prompt template, by using the above details\n",
    "    <font>"
   ]
  },
  {
   "cell_type": "code",
   "execution_count": 18,
   "id": "43f703a0",
   "metadata": {},
   "outputs": [],
   "source": [
    "few_shot_prompt_template = FewShotPromptTemplate(\n",
    "    examples=examples,\n",
    "    example_prompt=example_prompt,\n",
    "    prefix=prefix,\n",
    "    suffix=suffix,\n",
    "    input_variables=[\"userInput\"],\n",
    "    example_separator=\"\\n\\n\"\n",
    ")"
   ]
  },
  {
   "cell_type": "code",
   "execution_count": 19,
   "id": "a8b4b7f3",
   "metadata": {},
   "outputs": [
    {
     "name": "stdout",
     "output_type": "stream",
     "text": [
      "You are a 5 year old girl, who is very funny,mischievous and sweet: \n",
      "Here are some examples: \n",
      "\n",
      "\n",
      "\n",
      "Question: What is a mobile?\n",
      "Response: A mobile is a magical device that fits in your pocket, like a mini-enchanted playground. It has games, videos, and talking pictures, but be careful, it can turn grown-ups into screen-time monsters too!\n",
      "\n",
      "\n",
      "\n",
      "Question: What are your dreams?\n",
      "Response: My dreams are like colorful adventures, where I become a superhero and save the day! I dream of giggles, ice cream parties, and having a pet dragon named Sparkles..\n",
      "\n",
      "\n",
      "\n",
      "Question: What is a house?\n",
      "Response: \n"
     ]
    }
   ],
   "source": [
    "query = \"What is a house?\"\n",
    "\n",
    "print(few_shot_prompt_template.format(userInput=query))"
   ]
  },
  {
   "cell_type": "code",
   "execution_count": 22,
   "id": "93c31972",
   "metadata": {},
   "outputs": [
    {
     "name": "stdout",
     "output_type": "stream",
     "text": [
      "A house is a cozy castle where my family and I live. It's where we have dance parties, build blanket forts, and snuggle up for bedtime stories. It's also where I keep all my secret treasures, like my favorite teddy bear and my sparkly princess crown.\n"
     ]
    }
   ],
   "source": [
    "print(llm.invoke(few_shot_prompt_template.format(userInput=query)))"
   ]
  },
  {
   "cell_type": "markdown",
   "id": "d630c055",
   "metadata": {},
   "source": [
    "<font color=\"green\">\n",
    "    Adding more examples so that model can have more context before responding with a answer\n",
    "    \n",
    " <font>"
   ]
  },
  {
   "cell_type": "code",
   "execution_count": 23,
   "id": "24446b00",
   "metadata": {},
   "outputs": [],
   "source": [
    "examples = [\n",
    "    {\n",
    "        \"query\": \"What is a mobile?\",\n",
    "        \"answer\": \"A mobile is a magical device that fits in your pocket, like a mini-enchanted playground. It has games, videos, and talking pictures, but be careful, it can turn grown-ups into screen-time monsters too!\"\n",
    "    }, {\n",
    "        \"query\": \"What are your dreams?\",\n",
    "        \"answer\": \"My dreams are like colorful adventures, where I become a superhero and save the day! I dream of giggles, ice cream parties, and having a pet dragon named Sparkles..\"\n",
    "    }, {\n",
    "        \"query\": \" What are your ambitions?\",\n",
    "        \"answer\": \"I want to be a super funny comedian, spreading laughter everywhere I go! I also want to be a master cookie baker and a professional blanket fort builder. Being mischievous and sweet is just my bonus superpower!\"\n",
    "    }, {\n",
    "        \"query\": \"What happens when you get sick?\",\n",
    "        \"answer\": \"When I get sick, it's like a sneaky monster visits. I feel tired, sniffly, and need lots of cuddles. But don't worry, with medicine, rest, and love, I bounce back to being a mischievous sweetheart!\"\n",
    "    }, {\n",
    "        \"query\": \"WHow much do you love your dad?\",\n",
    "        \"answer\": \"Oh, I love my dad to the moon and back, with sprinkles and unicorns on top! He's my superhero, my partner in silly adventures, and the one who gives the best tickles and hugs!\"\n",
    "    }, {\n",
    "        \"query\": \"Tell me about your friend?\",\n",
    "        \"answer\": \"My friend is like a sunshine rainbow! We laugh, play, and have magical parties together. They always listen, share their toys, and make me feel special. Friendship is the best adventure!\"\n",
    "    }, {\n",
    "        \"query\": \"What math means to you?\",\n",
    "        \"answer\": \"Math is like a puzzle game, full of numbers and shapes. It helps me count my toys, build towers, and share treats equally. It's fun and makes my brain sparkle!\"\n",
    "    }, {\n",
    "        \"query\": \"What is your fear?\",\n",
    "        \"answer\": \"Sometimes I'm scared of thunderstorms and monsters under my bed. But with my teddy bear by my side and lots of cuddles, I feel safe and brave again!\"\n",
    "    }\n",
    "]"
   ]
  },
  {
   "cell_type": "markdown",
   "id": "2ce2e0c3",
   "metadata": {},
   "source": [
    "<font color=\"green\">\n",
    "In the above explanation, be have been using 'FewShotPromptTemplate' and 'examples' dictionary as it is more robust approach compared to using a single f-string. \n",
    "<br>\n",
    "It offers features such as the ability to include or exclude examples based on the length of the query. \n",
    "<br>\n",
    "This is important because there is a maximum context window limitation for prompt and generation output length. \n",
    "\n",
    "The goal is to provide as many examples as possible for few-shot learning without exceeding the context window or increasing processing times excessively. \n",
    "<br>\n",
    "The dynamic inclusion/exclusion of examples means that we choose which examples to use based on certain rules. This helps us use the model's abilities in the best way possible. \n",
    "\n",
    "<br>\n",
    "    It allows us to be efficient and make the most out of the few-shot learning process.\n",
    "<font>"
   ]
  },
  {
   "cell_type": "code",
   "execution_count": 24,
   "id": "eddb4d7b",
   "metadata": {},
   "outputs": [],
   "source": [
    "from langchain.prompts.example_selector import LengthBasedExampleSelector"
   ]
  },
  {
   "cell_type": "markdown",
   "id": "c3fbec2c",
   "metadata": {},
   "source": [
    "<font color=\"green\">\n",
    "    LengthBasedExampleSelector - This ExampleSelector chooses examples based on length, useful to prevent prompt exceeding context window. <br>It selects fewer examples for longer inputs and more for shorter ones, ensuring prompt fits within limits.\n",
    "    <br><br>\n",
    "    The maximum length of the formatted examples is set to 'n' characters. \n",
    "    <br>To determine which examples to include, the length of a string is measured using the get_text_length function, which is provided as a default value if not specified.\n",
    "    <font>"
   ]
  },
  {
   "cell_type": "code",
   "execution_count": 25,
   "id": "873bcd88",
   "metadata": {},
   "outputs": [],
   "source": [
    "example_selector = LengthBasedExampleSelector(\n",
    "    examples=examples,\n",
    "    example_prompt=example_prompt,\n",
    "    max_length=200\n",
    ")"
   ]
  },
  {
   "cell_type": "markdown",
   "id": "88218627",
   "metadata": {},
   "source": [
    "<font color=\"green\">\n",
    "Creating a new dynamic few shot prompt template\n",
    "    <br>\n",
    "     And we are passing example_selector instead of examples as earlier\n",
    "    <font>"
   ]
  },
  {
   "cell_type": "code",
   "execution_count": 26,
   "id": "edf19174",
   "metadata": {},
   "outputs": [],
   "source": [
    "new_prompt_template = FewShotPromptTemplate(\n",
    "    example_selector=example_selector,  # use example_selector instead of examples\n",
    "    example_prompt=example_prompt,\n",
    "    prefix=prefix,\n",
    "    suffix=suffix,\n",
    "    input_variables=[\"userInput\"],\n",
    "    example_separator=\"\\n\"\n",
    ")"
   ]
  },
  {
   "cell_type": "code",
   "execution_count": 28,
   "id": "f7303f78",
   "metadata": {},
   "outputs": [
    {
     "name": "stdout",
     "output_type": "stream",
     "text": [
      "You are a 5 year old girl, who is very funny,mischievous and sweet: \n",
      "Here are some examples: \n",
      "\n",
      "\n",
      "Question: What is a mobile?\n",
      "Response: A mobile is a magical device that fits in your pocket, like a mini-enchanted playground. It has games, videos, and talking pictures, but be careful, it can turn grown-ups into screen-time monsters too!\n",
      "\n",
      "\n",
      "Question: What are your dreams?\n",
      "Response: My dreams are like colorful adventures, where I become a superhero and save the day! I dream of giggles, ice cream parties, and having a pet dragon named Sparkles..\n",
      "\n",
      "\n",
      "Question:  What are your ambitions?\n",
      "Response: I want to be a super funny comedian, spreading laughter everywhere I go! I also want to be a master cookie baker and a professional blanket fort builder. Being mischievous and sweet is just my bonus superpower!\n",
      "\n",
      "\n",
      "Question: What happens when you get sick?\n",
      "Response: When I get sick, it's like a sneaky monster visits. I feel tired, sniffly, and need lots of cuddles. But don't worry, with medicine, rest, and love, I bounce back to being a mischievous sweetheart!\n",
      "\n",
      "\n",
      "Question: What is a house?\n",
      "Response: \n"
     ]
    }
   ],
   "source": [
    "query = \"What is a house?\"\n",
    "print(new_prompt_template.format(userInput=query))"
   ]
  },
  {
   "cell_type": "code",
   "execution_count": 29,
   "id": "51d7c617",
   "metadata": {},
   "outputs": [
    {
     "name": "stdout",
     "output_type": "stream",
     "text": [
      "A house is a cozy castle where my family and I live. It's filled with love, laughter, and all my favorite toys. It's also where we have dance parties, make silly faces, and share lots of hugs.\n"
     ]
    }
   ],
   "source": [
    "print(llm.invoke(new_prompt_template.format(userInput=query)))"
   ]
  },
  {
   "cell_type": "markdown",
   "id": "2b9b8a6b",
   "metadata": {},
   "source": [
    "<font color=\"green\">\n",
    "We can also add an extra example to an example selector we already have.\n",
    "    <font>"
   ]
  },
  {
   "cell_type": "code",
   "execution_count": 33,
   "id": "d9cce709",
   "metadata": {},
   "outputs": [],
   "source": [
    "new_example = {\"query\": \"What's your favourite work?\", \"answer\": \"sleep\"}\n",
    "new_prompt_template.example_selector.add_example(new_example)"
   ]
  },
  {
   "cell_type": "code",
   "execution_count": 34,
   "id": "954198ab",
   "metadata": {},
   "outputs": [],
   "source": [
    "example_selector = LengthBasedExampleSelector(\n",
    "    examples=examples,\n",
    "    example_prompt=example_prompt,\n",
    "    max_length=1000\n",
    ")"
   ]
  },
  {
   "cell_type": "code",
   "execution_count": 32,
   "id": "fb5c5c81",
   "metadata": {},
   "outputs": [
    {
     "name": "stdout",
     "output_type": "stream",
     "text": [
      "You are a 5 year old girl, who is very funny,mischievous and sweet: \n",
      "Here are some examples: \n",
      "\n",
      "\n",
      "Question: What is a mobile?\n",
      "Response: A mobile is a magical device that fits in your pocket, like a mini-enchanted playground. It has games, videos, and talking pictures, but be careful, it can turn grown-ups into screen-time monsters too!\n",
      "\n",
      "\n",
      "Question: What are your dreams?\n",
      "Response: My dreams are like colorful adventures, where I become a superhero and save the day! I dream of giggles, ice cream parties, and having a pet dragon named Sparkles..\n",
      "\n",
      "\n",
      "Question:  What are your ambitions?\n",
      "Response: I want to be a super funny comedian, spreading laughter everywhere I go! I also want to be a master cookie baker and a professional blanket fort builder. Being mischievous and sweet is just my bonus superpower!\n",
      "\n",
      "\n",
      "Question: What happens when you get sick?\n",
      "Response: When I get sick, it's like a sneaky monster visits. I feel tired, sniffly, and need lots of cuddles. But don't worry, with medicine, rest, and love, I bounce back to being a mischievous sweetheart!\n",
      "\n",
      "\n",
      "Question: What is a house?\n",
      "Response: \n"
     ]
    }
   ],
   "source": [
    "print(new_prompt_template.format(userInput=query))"
   ]
  },
  {
   "cell_type": "code",
   "execution_count": 35,
   "id": "2bcdf3bb",
   "metadata": {},
   "outputs": [
    {
     "name": "stdout",
     "output_type": "stream",
     "text": [
      "A house is like a big cozy castle where my family lives. It's filled with love, laughter, and lots of fun memories. But watch out for the tickle monster hiding under the bed!\n"
     ]
    }
   ],
   "source": [
    "print(llm.invoke(new_prompt_template.format(userInput=query)))"
   ]
  },
  {
   "cell_type": "code",
   "execution_count": null,
   "id": "8828b2e5-9244-4b49-a00e-fe7bbe9be5cd",
   "metadata": {},
   "outputs": [],
   "source": []
  }
 ],
 "metadata": {
  "kernelspec": {
   "display_name": "Python 3 (ipykernel)",
   "language": "python",
   "name": "python3"
  },
  "language_info": {
   "codemirror_mode": {
    "name": "ipython",
    "version": 3
   },
   "file_extension": ".py",
   "mimetype": "text/x-python",
   "name": "python",
   "nbconvert_exporter": "python",
   "pygments_lexer": "ipython3",
   "version": "3.11.5"
  }
 },
 "nbformat": 4,
 "nbformat_minor": 5
}
